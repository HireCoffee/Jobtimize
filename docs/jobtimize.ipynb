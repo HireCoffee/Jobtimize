{
 "cells": [
  {
   "cell_type": "markdown",
   "metadata": {},
   "source": [
    "# jobtimize doc\n",
    "Main script of the module.  \n",
    "These functions allow to perform web scrapping on job search platform, to collect job detail.\n",
    "____\n",
    "Requirements:"
   ]
  },
  {
   "cell_type": "code",
   "execution_count": 1,
   "metadata": {},
   "outputs": [],
   "source": [
    "import sys\n",
    "sys.path.append(\"..\")"
   ]
  },
  {
   "cell_type": "code",
   "execution_count": 2,
   "metadata": {},
   "outputs": [],
   "source": [
    "from Jobtimize import scrapindeed, scrapmonster\n",
    "import pandas as pd"
   ]
  },
  {
   "cell_type": "markdown",
   "metadata": {},
   "source": [
    "**`jobscrap()`** is the main function which collects and standardizes data all sites.  \n",
    "For each site, scraping is carried out.  \n",
    "A classification algorithm will be used to complete the empty cells, particularly *type* and *category*."
   ]
  },
  {
   "cell_type": "code",
   "execution_count": 3,
   "metadata": {},
   "outputs": [],
   "source": [
    "def jobscrap(searchList, countryList):\n",
    "    \"\"\"\n",
    "    Extract and normalizes data from the search results\n",
    "    :searchList: list of jobs or keywords to search\n",
    "    :country: list of countries in 2-letter code\n",
    "    :return: pandas dataframe\n",
    "    \"\"\"\n",
    "    \n",
    "    countries = [\n",
    "        'AE', 'AR', 'AT', 'AU', 'BE', 'BH', 'BR', 'CA', 'CH', 'CL', 'CN', 'CO',\n",
    "        'CZ', 'DE', 'DK', 'ES', 'FI', 'FR', 'GB', 'GR', 'HK', 'HU', 'ID', 'IE',\n",
    "        'IL', 'IN', 'IT', 'JP', 'KR', 'KW', 'LU', 'MX', 'MY', 'NL', 'NO', 'NZ',\n",
    "        'OM', 'PE', 'PH', 'PK', 'PL', 'PT', 'QT', 'RO', 'RU', 'SA', 'SE', 'SG',\n",
    "        'TH', 'TR', 'TW', 'US', 'VE', 'VN', 'ZA'\n",
    "    ]\n",
    "    countryList = [country for country in countryList if country in countries]\n",
    "\n",
    "    indeed = scrapindeed.IndeedScrap(searchList, countryList)\n",
    "    monster = scrapmonster.MonsterScrap(searchList, countryList)\n",
    "    # add here other sites in the same format\n",
    "\n",
    "    jobData = pd.DataFrame(indeed + monster,\n",
    "                           columns = [\n",
    "                               \"header\", \"company\", \"city\", \"country\",\n",
    "                               \"posted\", \"description\", \"type\", \"category\",\n",
    "                               \"url\"\n",
    "                           ])\n",
    "    return jobData"
   ]
  },
  {
   "cell_type": "markdown",
   "metadata": {},
   "source": [
    "# Example of use\n",
    "\n",
    "Let's do research on the data analyst post in France, at Nantes.  \n",
    "Preview the 5 first rows"
   ]
  },
  {
   "cell_type": "code",
   "execution_count": 4,
   "metadata": {},
   "outputs": [
    {
     "data": {
      "text/html": [
       "<div>\n",
       "<style scoped>\n",
       "    .dataframe tbody tr th:only-of-type {\n",
       "        vertical-align: middle;\n",
       "    }\n",
       "\n",
       "    .dataframe tbody tr th {\n",
       "        vertical-align: top;\n",
       "    }\n",
       "\n",
       "    .dataframe thead th {\n",
       "        text-align: right;\n",
       "    }\n",
       "</style>\n",
       "<table border=\"1\" class=\"dataframe\">\n",
       "  <thead>\n",
       "    <tr style=\"text-align: right;\">\n",
       "      <th></th>\n",
       "      <th>header</th>\n",
       "      <th>company</th>\n",
       "      <th>city</th>\n",
       "      <th>country</th>\n",
       "      <th>posted</th>\n",
       "      <th>description</th>\n",
       "      <th>type</th>\n",
       "      <th>category</th>\n",
       "      <th>url</th>\n",
       "    </tr>\n",
       "  </thead>\n",
       "  <tbody>\n",
       "    <tr>\n",
       "      <th>0</th>\n",
       "      <td>Responsable Acquisition, Conversion et Data H/F</td>\n",
       "      <td>Groupe Beneteau</td>\n",
       "      <td>Nantes (44)</td>\n",
       "      <td>FR</td>\n",
       "      <td>+ 2019-12-27T14:44:06</td>\n",
       "      <td>Date: 11 janv. 2020\\n MARKETING\\nNantes France...</td>\n",
       "      <td></td>\n",
       "      <td></td>\n",
       "      <td>https://www.indeed.com/viewjob?jk=234428ce260d...</td>\n",
       "    </tr>\n",
       "    <tr>\n",
       "      <th>1</th>\n",
       "      <td>ANALYSTE DÉVELOPPEUR SOLUTIONS BIG DATA (H/F)</td>\n",
       "      <td>Crédit mutuel</td>\n",
       "      <td>Nantes (44)</td>\n",
       "      <td>FR</td>\n",
       "      <td>+ 2019-12-27T14:44:06</td>\n",
       "      <td>En accompagnement du développement de projets ...</td>\n",
       "      <td></td>\n",
       "      <td></td>\n",
       "      <td>https://www.indeed.com/viewjob?jk=a287fc268e0b...</td>\n",
       "    </tr>\n",
       "    <tr>\n",
       "      <th>2</th>\n",
       "      <td>INGENIEUR ETUDES AS400 IBMI H/F NANTES</td>\n",
       "      <td>Umanis</td>\n",
       "      <td>Saint-Herblain (44)</td>\n",
       "      <td>FR</td>\n",
       "      <td>+ 2019-12-27T14:44:06</td>\n",
       "      <td>THE FRENCH LEADER OF THE DATA RECRUITS.\\nJoini...</td>\n",
       "      <td></td>\n",
       "      <td></td>\n",
       "      <td>https://www.indeed.com/viewjob?jk=d6b94f23eb44...</td>\n",
       "    </tr>\n",
       "    <tr>\n",
       "      <th>3</th>\n",
       "      <td>ANALYSTE DÉVELOPPEUR SUR LES TECHNOLOGIES DÉCI...</td>\n",
       "      <td>Euro Information</td>\n",
       "      <td>Nantes (44)</td>\n",
       "      <td>FR</td>\n",
       "      <td>+ 2019-12-27T14:44:06</td>\n",
       "      <td>Présentation de la société\\nEuro-Information, ...</td>\n",
       "      <td></td>\n",
       "      <td></td>\n",
       "      <td>https://www.indeed.com/viewjob?jk=3d2405f0ab3d...</td>\n",
       "    </tr>\n",
       "    <tr>\n",
       "      <th>4</th>\n",
       "      <td>Data Scientiste / Data Analyste / Freelance</td>\n",
       "      <td>STAR TEC INFORMATIQUE</td>\n",
       "      <td>Nantes (44)</td>\n",
       "      <td>FR</td>\n",
       "      <td>2019-12-28T14:44:06</td>\n",
       "      <td>Nous recherchons pour l’un de nos clients un D...</td>\n",
       "      <td></td>\n",
       "      <td></td>\n",
       "      <td>https://www.indeed.com/viewjob?jk=52dbbdc056d2...</td>\n",
       "    </tr>\n",
       "  </tbody>\n",
       "</table>\n",
       "</div>"
      ],
      "text/plain": [
       "                                              header                company  \\\n",
       "0    Responsable Acquisition, Conversion et Data H/F        Groupe Beneteau   \n",
       "1      ANALYSTE DÉVELOPPEUR SOLUTIONS BIG DATA (H/F)          Crédit mutuel   \n",
       "2             INGENIEUR ETUDES AS400 IBMI H/F NANTES                 Umanis   \n",
       "3  ANALYSTE DÉVELOPPEUR SUR LES TECHNOLOGIES DÉCI...       Euro Information   \n",
       "4        Data Scientiste / Data Analyste / Freelance  STAR TEC INFORMATIQUE   \n",
       "\n",
       "                  city country                 posted  \\\n",
       "0          Nantes (44)      FR  + 2019-12-27T14:44:06   \n",
       "1          Nantes (44)      FR  + 2019-12-27T14:44:06   \n",
       "2  Saint-Herblain (44)      FR  + 2019-12-27T14:44:06   \n",
       "3          Nantes (44)      FR  + 2019-12-27T14:44:06   \n",
       "4          Nantes (44)      FR    2019-12-28T14:44:06   \n",
       "\n",
       "                                         description type category  \\\n",
       "0  Date: 11 janv. 2020\\n MARKETING\\nNantes France...                 \n",
       "1  En accompagnement du développement de projets ...                 \n",
       "2  THE FRENCH LEADER OF THE DATA RECRUITS.\\nJoini...                 \n",
       "3  Présentation de la société\\nEuro-Information, ...                 \n",
       "4  Nous recherchons pour l’un de nos clients un D...                 \n",
       "\n",
       "                                                 url  \n",
       "0  https://www.indeed.com/viewjob?jk=234428ce260d...  \n",
       "1  https://www.indeed.com/viewjob?jk=a287fc268e0b...  \n",
       "2  https://www.indeed.com/viewjob?jk=d6b94f23eb44...  \n",
       "3  https://www.indeed.com/viewjob?jk=3d2405f0ab3d...  \n",
       "4  https://www.indeed.com/viewjob?jk=52dbbdc056d2...  "
      ]
     },
     "execution_count": 4,
     "metadata": {},
     "output_type": "execute_result"
    }
   ],
   "source": [
    "df = jobscrap([\"Data Analyst nantes\"], [\"FR\"])\n",
    "df.head()"
   ]
  }
 ],
 "metadata": {
  "kernelspec": {
   "display_name": "Python 3",
   "language": "python",
   "name": "python3"
  },
  "language_info": {
   "codemirror_mode": {
    "name": "ipython",
    "version": 3
   },
   "file_extension": ".py",
   "mimetype": "text/x-python",
   "name": "python",
   "nbconvert_exporter": "python",
   "pygments_lexer": "ipython3",
   "version": "3.7.5"
  }
 },
 "nbformat": 4,
 "nbformat_minor": 2
}
