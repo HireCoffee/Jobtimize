{
 "cells": [
  {
   "cell_type": "markdown",
   "metadata": {},
   "source": [
    "# jobtimize doc\n",
    "Main script of the module.  \n",
    "These functions allow to perform web scrapping on job search platform, to collect job detail.\n",
    "____\n",
    "Requirements:"
   ]
  },
  {
   "cell_type": "code",
   "execution_count": 1,
   "metadata": {},
   "outputs": [],
   "source": [
    "import sys\n",
    "sys.path.append(\"..\")"
   ]
  },
  {
   "cell_type": "code",
   "execution_count": 2,
   "metadata": {},
   "outputs": [],
   "source": [
    "from Jobtimize import scrapindeed, scrapmonster\n",
    "import pandas as pd\n",
    "import warnings"
   ]
  },
  {
   "cell_type": "markdown",
   "metadata": {},
   "source": [
    "**`jobscrap()`** is the main function which collects and standardizes data all sites.  \n",
    "For each site, scraping is carried out.  \n",
    "A classification algorithm will be used to complete the empty cells, particularly *type* and *category*."
   ]
  },
  {
   "cell_type": "code",
   "execution_count": 3,
   "metadata": {},
   "outputs": [],
   "source": [
    "def jobscrap(searchList, countryList, prox = False):\n",
    "    \"\"\"\n",
    "    Extract and normalizes data from the search results\n",
    "    :searchList: list of jobs or keywords to search\n",
    "    :country: list of countries in 2-letter code\n",
    "    :return: pandas dataframe\n",
    "    \"\"\"\n",
    "    \n",
    "    if prox:\n",
    "        warnings.warn(\"Using a proxy extends execution time\", UserWarning)\n",
    "        \n",
    "    countries = [\n",
    "        'AE', 'AR', 'AT', 'AU', 'BE', 'BH', 'BR', 'CA', 'CH', 'CL', 'CN', 'CO',\n",
    "        'CZ', 'DE', 'DK', 'ES', 'FI', 'FR', 'GB', 'GR', 'HK', 'HU', 'ID', 'IE',\n",
    "        'IL', 'IN', 'IT', 'JP', 'KR', 'KW', 'LU', 'MX', 'MY', 'NL', 'NO', 'NZ',\n",
    "        'OM', 'PE', 'PH', 'PK', 'PL', 'PT', 'QT', 'RO', 'RU', 'SA', 'SE', 'SG',\n",
    "        'TH', 'TR', 'TW', 'US', 'VE', 'VN', 'ZA'\n",
    "    ]\n",
    "    countryList = [country for country in countryList if country in countries]\n",
    "\n",
    "    indeed = scrapindeed.IndeedScrap(searchList, countryList, prox)\n",
    "    monster = scrapmonster.MonsterScrap(searchList, countryList, prox)\n",
    "    # add here other sites in the same format\n",
    "\n",
    "    jobData = pd.DataFrame(indeed + monster,\n",
    "                           columns = [\n",
    "                               \"header\", \"company\", \"city\", \"country\",\n",
    "                               \"posted\", \"description\", \"type\", \"category\",\n",
    "                               \"url\"\n",
    "                           ])\n",
    "    return jobData"
   ]
  },
  {
   "cell_type": "markdown",
   "metadata": {},
   "source": [
    "# Example of use\n",
    "\n",
    "Let's do research on the data analyst post in France, at Nantes.  \n",
    "Preview the 5 first rows"
   ]
  },
  {
   "cell_type": "code",
   "execution_count": 4,
   "metadata": {},
   "outputs": [
    {
     "data": {
      "text/html": [
       "<div>\n",
       "<style scoped>\n",
       "    .dataframe tbody tr th:only-of-type {\n",
       "        vertical-align: middle;\n",
       "    }\n",
       "\n",
       "    .dataframe tbody tr th {\n",
       "        vertical-align: top;\n",
       "    }\n",
       "\n",
       "    .dataframe thead th {\n",
       "        text-align: right;\n",
       "    }\n",
       "</style>\n",
       "<table border=\"1\" class=\"dataframe\">\n",
       "  <thead>\n",
       "    <tr style=\"text-align: right;\">\n",
       "      <th></th>\n",
       "      <th>header</th>\n",
       "      <th>company</th>\n",
       "      <th>city</th>\n",
       "      <th>country</th>\n",
       "      <th>posted</th>\n",
       "      <th>description</th>\n",
       "      <th>type</th>\n",
       "      <th>category</th>\n",
       "      <th>url</th>\n",
       "    </tr>\n",
       "  </thead>\n",
       "  <tbody>\n",
       "    <tr>\n",
       "      <th>0</th>\n",
       "      <td>Data Analyst</td>\n",
       "      <td>SIGMA</td>\n",
       "      <td>Developpement BI F/H</td>\n",
       "      <td>FR</td>\n",
       "      <td>2020-01-31T13:37:08</td>\n",
       "      <td>Vous pensez que la BI doit être à la portée de...</td>\n",
       "      <td></td>\n",
       "      <td></td>\n",
       "      <td>https://www.indeed.com/viewjob?jk=a874a5d70bd7...</td>\n",
       "    </tr>\n",
       "    <tr>\n",
       "      <th>1</th>\n",
       "      <td>Ingénieur Intégration / Data Analyst</td>\n",
       "      <td>EXTERNATIC</td>\n",
       "      <td>Saint-Herblain (44)</td>\n",
       "      <td>FR</td>\n",
       "      <td>2020-01-16T13:37:08</td>\n",
       "      <td>DESCRIPTION DE L'OFFRE\\nExternatic, le hub d’o...</td>\n",
       "      <td></td>\n",
       "      <td></td>\n",
       "      <td>https://www.indeed.com/viewjob?jk=775875e65f93...</td>\n",
       "    </tr>\n",
       "    <tr>\n",
       "      <th>2</th>\n",
       "      <td>Analyste Investissement F/H</td>\n",
       "      <td>Groupe Blot Immobilier</td>\n",
       "      <td>44000 Nantes</td>\n",
       "      <td>FR</td>\n",
       "      <td>2020-01-24T13:37:08</td>\n",
       "      <td>L'entreprise\\n\\nFondé il y a plus de 50 ans, l...</td>\n",
       "      <td></td>\n",
       "      <td></td>\n",
       "      <td>https://www.indeed.com/viewjob?jk=c7556b561196...</td>\n",
       "    </tr>\n",
       "    <tr>\n",
       "      <th>3</th>\n",
       "      <td>Data Analyst</td>\n",
       "      <td>Sigma Informatique</td>\n",
       "      <td>Developpement BI F/H</td>\n",
       "      <td>FR</td>\n",
       "      <td>+ 2020-01-05T13:37:08</td>\n",
       "      <td>Le groupe SIGMA (800 collaborateurs) est un ac...</td>\n",
       "      <td></td>\n",
       "      <td></td>\n",
       "      <td>https://www.indeed.com/viewjob?jk=8c17063625f6...</td>\n",
       "    </tr>\n",
       "    <tr>\n",
       "      <th>4</th>\n",
       "      <td>DevOps Data Infrastructure Engineer H/F</td>\n",
       "      <td>TripAdvisor</td>\n",
       "      <td>Nantes (44)</td>\n",
       "      <td>FR</td>\n",
       "      <td>+ 2020-01-05T13:37:09</td>\n",
       "      <td>LaFourchette, part of the TripAdvisor group, i...</td>\n",
       "      <td></td>\n",
       "      <td></td>\n",
       "      <td>https://www.indeed.com/viewjob?jk=022a1afec7d5...</td>\n",
       "    </tr>\n",
       "  </tbody>\n",
       "</table>\n",
       "</div>"
      ],
      "text/plain": [
       "                                    header                 company  \\\n",
       "0                             Data Analyst                   SIGMA   \n",
       "1     Ingénieur Intégration / Data Analyst              EXTERNATIC   \n",
       "2              Analyste Investissement F/H  Groupe Blot Immobilier   \n",
       "3                             Data Analyst      Sigma Informatique   \n",
       "4  DevOps Data Infrastructure Engineer H/F             TripAdvisor   \n",
       "\n",
       "                   city country                 posted  \\\n",
       "0  Developpement BI F/H      FR    2020-01-31T13:37:08   \n",
       "1   Saint-Herblain (44)      FR    2020-01-16T13:37:08   \n",
       "2          44000 Nantes      FR    2020-01-24T13:37:08   \n",
       "3  Developpement BI F/H      FR  + 2020-01-05T13:37:08   \n",
       "4           Nantes (44)      FR  + 2020-01-05T13:37:09   \n",
       "\n",
       "                                         description type category  \\\n",
       "0  Vous pensez que la BI doit être à la portée de...                 \n",
       "1  DESCRIPTION DE L'OFFRE\\nExternatic, le hub d’o...                 \n",
       "2  L'entreprise\\n\\nFondé il y a plus de 50 ans, l...                 \n",
       "3  Le groupe SIGMA (800 collaborateurs) est un ac...                 \n",
       "4  LaFourchette, part of the TripAdvisor group, i...                 \n",
       "\n",
       "                                                 url  \n",
       "0  https://www.indeed.com/viewjob?jk=a874a5d70bd7...  \n",
       "1  https://www.indeed.com/viewjob?jk=775875e65f93...  \n",
       "2  https://www.indeed.com/viewjob?jk=c7556b561196...  \n",
       "3  https://www.indeed.com/viewjob?jk=8c17063625f6...  \n",
       "4  https://www.indeed.com/viewjob?jk=022a1afec7d5...  "
      ]
     },
     "execution_count": 4,
     "metadata": {},
     "output_type": "execute_result"
    }
   ],
   "source": [
    "df = jobscrap([\"Data Analyst nantes\"], [\"FR\"])\n",
    "df.head()"
   ]
  }
 ],
 "metadata": {
  "kernelspec": {
   "display_name": "Python 3",
   "language": "python",
   "name": "python3"
  },
  "language_info": {
   "codemirror_mode": {
    "name": "ipython",
    "version": 3
   },
   "file_extension": ".py",
   "mimetype": "text/x-python",
   "name": "python",
   "nbconvert_exporter": "python",
   "pygments_lexer": "ipython3",
   "version": "3.7.5"
  }
 },
 "nbformat": 4,
 "nbformat_minor": 2
}
