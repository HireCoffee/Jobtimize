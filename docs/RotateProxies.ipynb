{
 "cells": [
  {
   "cell_type": "code",
   "execution_count": 32,
   "metadata": {},
   "outputs": [],
   "source": [
    "from bs4 import BeautifulSoup\n",
    "from itertools import cycle\n",
    "from requests import get"
   ]
  },
  {
   "cell_type": "code",
   "execution_count": 30,
   "metadata": {},
   "outputs": [],
   "source": [
    "class RotateProxies:\n",
    "    def __init__(self):\n",
    "        self.proxies = self.collectProxies()\n",
    "\n",
    "    def collectProxies(self):\n",
    "        url = \"https://free-proxy-list.net/\"\n",
    "        table = BeautifulSoup(get(url).text, 'html.parser').find(\n",
    "            'table', attrs={'id': 'proxylisttable'})\n",
    "\n",
    "        proxies = cycle([{\n",
    "            \"https\":\n",
    "            \"{}:{}\".format(\n",
    "                row.find_all('td')[0].string,\n",
    "                row.find_all('td')[1].string)\n",
    "        } for row in table.find_all('tr') if len(row.find_all('td')) > 1\n",
    "                         and row.find_all('td')[6].string == \"yes\"])\n",
    "\n",
    "        return proxies\n",
    "    \n",
    "    def next(self):\n",
    "        test_url = 'https://httpbin.org/ip'\n",
    "        proxy = None\n",
    "        while True:\n",
    "            proxy = next(self.proxies)\n",
    "            try:\n",
    "                test = get(test_url, proxies = proxy)\n",
    "            except:\n",
    "                continue\n",
    "            else:\n",
    "                break\n",
    "        return proxy"
   ]
  },
  {
   "cell_type": "code",
   "execution_count": 33,
   "metadata": {},
   "outputs": [],
   "source": [
    "p = RotateProxies()"
   ]
  },
  {
   "cell_type": "code",
   "execution_count": 35,
   "metadata": {},
   "outputs": [
    {
     "data": {
      "text/plain": [
       "{'https': '83.13.164.202:49185'}"
      ]
     },
     "execution_count": 35,
     "metadata": {},
     "output_type": "execute_result"
    }
   ],
   "source": [
    "p.next()"
   ]
  }
 ],
 "metadata": {
  "kernelspec": {
   "display_name": "Python 3",
   "language": "python",
   "name": "python3"
  },
  "language_info": {
   "codemirror_mode": {
    "name": "ipython",
    "version": 3
   },
   "file_extension": ".py",
   "mimetype": "text/x-python",
   "name": "python",
   "nbconvert_exporter": "python",
   "pygments_lexer": "ipython3",
   "version": "3.7.5"
  }
 },
 "nbformat": 4,
 "nbformat_minor": 2
}
