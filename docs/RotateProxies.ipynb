{
 "cells": [
  {
   "cell_type": "markdown",
   "metadata": {},
   "source": [
    "# RotateProxies doc\n",
    "This class manages the proxies rotation in HTTPS requests during scraping.\n",
    "____\n",
    "Requirements:"
   ]
  },
  {
   "cell_type": "code",
   "execution_count": 1,
   "metadata": {},
   "outputs": [],
   "source": [
    "from bs4 import BeautifulSoup\n",
    "from itertools import cycle\n",
    "from requests import get"
   ]
  },
  {
   "cell_type": "markdown",
   "metadata": {},
   "source": [
    "The instance of the class `RotateProxies` has only as attribute an iterator `proxies` which is initialized with the instance thanks to the class method *collectProxies()*."
   ]
  },
  {
   "cell_type": "code",
   "execution_count": null,
   "metadata": {},
   "outputs": [],
   "source": [
    "class RotateProxies:\n",
    "    def __init__(self):\n",
    "        self.proxies = self.collectProxies()"
   ]
  },
  {
   "cell_type": "markdown",
   "metadata": {},
   "source": [
    "The **collectProxies()** method collects proxies (IP:Port) from the [Free Proxy List](https://free-proxy-list.net/) site, only those available for HTTPS requests.\n",
    "\n",
    "It returns a cyclic iterator.  \n",
    "This method is called when initializing an instance."
   ]
  },
  {
   "cell_type": "code",
   "execution_count": null,
   "metadata": {},
   "outputs": [],
   "source": [
    "class RotateProxies:\n",
    "    ...\n",
    "    def collectProxies(self):\n",
    "        url = \"https://free-proxy-list.net/\"\n",
    "        table = BeautifulSoup(get(url).text, 'html.parser').find(\n",
    "            'table', attrs={'id': 'proxylisttable'})\n",
    "\n",
    "        proxies = cycle([{\n",
    "            \"https\":\n",
    "            \"{}:{}\".format(\n",
    "                row.find_all('td')[0].string,\n",
    "                row.find_all('td')[1].string)\n",
    "        } for row in table.find_all('tr') if len(row.find_all('td')) > 1\n",
    "                         and row.find_all('td')[6].string == \"yes\"])\n",
    "\n",
    "        return proxies"
   ]
  },
  {
   "cell_type": "markdown",
   "metadata": {},
   "source": [
    "The **next()** method is the iterator protocol.\n",
    "\n",
    "But before sending the next proxy, it tests its validity.  \n",
    "If it's not valid, it tests the next one and so on."
   ]
  },
  {
   "cell_type": "code",
   "execution_count": 2,
   "metadata": {},
   "outputs": [],
   "source": [
    " class RotateProxies:\n",
    "    ...\n",
    "    def next(self):\n",
    "        test_url = 'https://httpbin.org/ip'\n",
    "        proxy = None\n",
    "        while True:\n",
    "            proxy = next(self.proxies)\n",
    "            try:\n",
    "                test = get(test_url, proxies = proxy)\n",
    "            except:\n",
    "                continue\n",
    "            else:\n",
    "                break\n",
    "        return proxy"
   ]
  },
  {
   "cell_type": "markdown",
   "metadata": {},
   "source": [
    "# Example of use\n",
    "An available random proxy."
   ]
  },
  {
   "cell_type": "code",
   "execution_count": 3,
   "metadata": {},
   "outputs": [
    {
     "data": {
      "text/plain": [
       "{'https': '101.51.241.253:8080'}"
      ]
     },
     "execution_count": 3,
     "metadata": {},
     "output_type": "execute_result"
    }
   ],
   "source": [
    "p = RotateProxies()\n",
    "p.next()"
   ]
  }
 ],
 "metadata": {
  "kernelspec": {
   "display_name": "Python 3",
   "language": "python",
   "name": "python3"
  },
  "language_info": {
   "codemirror_mode": {
    "name": "ipython",
    "version": 3
   },
   "file_extension": ".py",
   "mimetype": "text/x-python",
   "name": "python",
   "nbconvert_exporter": "python",
   "pygments_lexer": "ipython3",
   "version": "3.7.5"
  }
 },
 "nbformat": 4,
 "nbformat_minor": 2
}
